{
 "cells": [
  {
   "cell_type": "markdown",
   "metadata": {},
   "source": [
    "## my first graph\n"
   ]
  },
  {
   "cell_type": "code",
   "execution_count": 1,
   "metadata": {
    "collapsed": false
   },
   "outputs": [
    {
     "name": "stdout",
     "output_type": "stream",
     "text": [
      "Tensor(\"MatMul:0\", shape=(5, 5), dtype=float32)\n",
      "A\n",
      "[[ 0.83507776  0.21948612  0.37569809  0.40677381  0.76023221]\n",
      " [ 0.65436685  0.29018974  0.459342    0.02286196  0.83304226]\n",
      " [ 0.72508967  0.63782382  0.66243649  0.99468386  0.49296641]\n",
      " [ 0.13798761  0.84818196  0.16287172  0.944368    0.30115712]\n",
      " [ 0.31632483  0.98446143  0.27488148  0.91331947  0.06971109]]\n",
      "B\n",
      "[[ 0.52408695  0.29631042  0.75476706  0.98430967  0.93703926]\n",
      " [ 0.10937321  0.92656887  0.75044656  0.43800724  0.54509318]\n",
      " [ 0.61250556  0.17846298  0.20133805  0.8509022   0.23952317]\n",
      " [ 0.06808686  0.85807931  0.51301527  0.08932102  0.69580662]\n",
      " [ 0.85242712  0.40909648  0.5158937   0.22837746  0.59773886]]\n",
      "C\n",
      "[[ 0.81757271  0.58452368  0.8921777   0.38989824  0.73323846]\n",
      " [ 1.32021773  0.94930142  1.10783827  0.81682581  1.03693068]\n",
      " [ 1.67880559  1.00997734  1.62000394  1.06324077  1.48489201]\n",
      " [ 1.47553682  1.00358653  1.51585937  0.82365829  1.30277228]\n",
      " [ 1.68431914  1.25301659  1.43858874  1.12672985  1.39875901]]\n"
     ]
    }
   ],
   "source": [
    "import tensorflow as tf\n",
    "A = tf.random_uniform([5,5])\n",
    "B = tf.random_uniform([5,5])\n",
    "C = tf.matmul(A,B)\n",
    "print(C);\n",
    "session = tf.Session()\n",
    "session.run(C)\n",
    "\n",
    "print(\"A\")\n",
    "print(session.run(A))\n",
    "\n",
    "print(\"B\")\n",
    "print(session.run(B))\n",
    "\n",
    "print(\"C\")\n",
    "print(session.run(C))\n",
    "\n",
    "writer = tf.train.SummaryWriter(\"/tmp/start1\", session.graph)\n"
   ]
  },
  {
   "cell_type": "code",
   "execution_count": 4,
   "metadata": {
    "collapsed": true
   },
   "outputs": [],
   "source": [
    "tf.reset_default_graph()\n",
    "session.close()"
   ]
  },
  {
   "cell_type": "code",
   "execution_count": null,
   "metadata": {
    "collapsed": true
   },
   "outputs": [],
   "source": [
    "\n",
    "import numpy as np\n",
    "\n",
    "tf.reset_default_graph()\n",
    "XData = np.random.rand(5,5)\n",
    "YData = np.random.rand(5,5)"
   ]
  },
  {
   "cell_type": "markdown",
   "metadata": {},
   "source": [
    "#### similar to other code but generating data and passing data to tensor"
   ]
  },
  {
   "cell_type": "code",
   "execution_count": 17,
   "metadata": {
    "collapsed": false
   },
   "outputs": [
    {
     "name": "stdout",
     "output_type": "stream",
     "text": [
      "[[ 0.50757235  0.80103362  0.20986789  0.83151579  0.77686781]\n",
      " [ 1.73937559  2.2497642   0.74580956  1.950104    2.20099235]\n",
      " [ 2.11346078  2.69542027  0.81798941  2.66974401  2.8874464 ]\n",
      " [ 0.89855564  1.38707566  0.37758365  1.49070978  1.54351962]\n",
      " [ 1.81329727  2.48721266  0.77378774  2.33046365  2.18435669]]\n"
     ]
    }
   ],
   "source": [
    "x = tf.placeholder(tf.float32, [5,5])\n",
    "y = tf.placeholder(tf.float32, [5,5])\n",
    "z = tf.matmul(x,y) #calculates matrix multiplication\n",
    "\n",
    "with tf.Session() as session:\n",
    "    session.run(tf.initialize_all_variables())\n",
    "    print(session.run(z, feed_dict={x:XData, y:YData}))"
   ]
  },
  {
   "cell_type": "markdown",
   "metadata": {},
   "source": [
    "## Machine Learning 101"
   ]
  },
  {
   "cell_type": "markdown",
   "metadata": {},
   "source": [
    "What is Machine learning? \n",
    "Target Function = tells you the outcome\n",
    "Example: The image my eye receives is data and teh brain processes the image and tells you what it is. The procesing of the brain is a target function.\n",
    "Machine learning tries to solve the learning algorithm and model to get the target function.\n",
    "\n",
    "In a program, yo tell how an opperation will work. We code it.\n",
    "Machine learning, we don't know the target function.\n",
    "\n",
    "The learning algorithm assumes that the floor is concrete and the top concrete is ceiling. The rational of creating a threshold is learning algorithm. The threshold becomes the model.\n",
    "\n",
    "Looks at data!!!!\n",
    "\n",
    "\n",
    "Train Data. \n",
    "Problem: overfitting.  Buliding a model that fits that data perfectly. if you givit it new data, its a problem.\n",
    "\n",
    "Training Data by creating three types of sets:\n",
    "Training Set\n",
    "Testing Set\n",
    "validation set\n",
    "\n",
    "Machine Learning solves\n",
    "Classification problems = what it is\n",
    "Regression Problem = Example: what is the demand for a given price. Price of a TV on black friday.\n"
   ]
  },
  {
   "cell_type": "markdown",
   "metadata": {},
   "source": [
    "http://www.r2d3.us/"
   ]
  },
  {
   "cell_type": "code",
   "execution_count": null,
   "metadata": {
    "collapsed": true
   },
   "outputs": [],
   "source": [
    "Machine Learning Camps\n",
    "\n",
    "Recomender Systems - Netflix\n",
    "\n",
    "Neural Networks aka Deep Learning\n",
    "- face recognition\n",
    "- computer vision\n",
    "- speech recognition\n",
    "\n",
    "reverse induction\n",
    "genetic evolution\n",
    "Linear regression\n",
    "Logistic Regression"
   ]
  }
 ],
 "metadata": {
  "kernelspec": {
   "display_name": "Python 2",
   "language": "python",
   "name": "python2"
  },
  "language_info": {
   "codemirror_mode": {
    "name": "ipython",
    "version": 2
   },
   "file_extension": ".py",
   "mimetype": "text/x-python",
   "name": "python",
   "nbconvert_exporter": "python",
   "pygments_lexer": "ipython2",
   "version": "2.7.6"
  }
 },
 "nbformat": 4,
 "nbformat_minor": 1
}
